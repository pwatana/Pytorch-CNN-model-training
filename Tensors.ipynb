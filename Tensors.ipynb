{
  "cells": [
    {
      "cell_type": "markdown",
      "metadata": {
        "colab_type": "text",
        "id": "view-in-github"
      },
      "source": [
        "<a href=\"https://colab.research.google.com/github/flatplanet/Pytorch-Tutorial-Youtube/blob/main/Tensors.ipynb\" target=\"_parent\"><img src=\"https://colab.research.google.com/assets/colab-badge.svg\" alt=\"Open In Colab\"/></a>"
      ]
    },
    {
      "cell_type": "markdown",
      "metadata": {
        "id": "SPuFeQGa_B9v"
      },
      "source": [
        "# **TENSORS**\n",
        "\n",
        "*   A torch.Tensor is a multi-dimensional matrix containing elements of a single data type.\n",
        "\n",
        "*   Similar To Numpy Arrays, but full of fun things that make them work better on GPU's (vs regular CPU's).\n",
        "\n",
        "*  default data type of float32.\n",
        "\n",
        "* More suitable for deep learning than a numpy array.\n",
        "\n",
        "\n",
        "\n",
        "\n",
        "\n"
      ]
    },
    {
      "cell_type": "code",
      "execution_count": 1,
      "metadata": {
        "id": "9M7GniiD_HDg"
      },
      "outputs": [],
      "source": [
        "import torch\n",
        "import numpy as np"
      ]
    },
    {
      "cell_type": "markdown",
      "metadata": {
        "id": "lBRfw7H0Afv3"
      },
      "source": [
        "# **LISTS**\n"
      ]
    },
    {
      "cell_type": "code",
      "execution_count": 2,
      "metadata": {
        "colab": {
          "base_uri": "https://localhost:8080/"
        },
        "id": "QiHJf-taAhCF",
        "outputId": "4ce1f264-1670-43bd-dbf0-e6c965b47a00"
      },
      "outputs": [
        {
          "data": {
            "text/plain": [
              "[[1, 2, 3, 4, 5], [6, 7, 8, 9, 10]]"
            ]
          },
          "execution_count": 2,
          "metadata": {},
          "output_type": "execute_result"
        }
      ],
      "source": [
        "my_list = [[1,2,3,4,5], [6,7,8,9,10]]\n",
        "my_list\n"
      ]
    },
    {
      "cell_type": "markdown",
      "metadata": {
        "id": "K6xTiYlzAj6f"
      },
      "source": [
        "# **NUMPY ARRAYS**"
      ]
    },
    {
      "cell_type": "code",
      "execution_count": 3,
      "metadata": {
        "colab": {
          "base_uri": "https://localhost:8080/"
        },
        "id": "zqUEpvzhAltl",
        "outputId": "981fcd18-790e-41de-9782-aea18b6832d9"
      },
      "outputs": [
        {
          "data": {
            "text/plain": [
              "array([[0.03225423, 0.3084651 , 0.65020865, 0.44783018],\n",
              "       [0.80171149, 0.46753126, 0.22609405, 0.68730055],\n",
              "       [0.99595167, 0.97133055, 0.43437056, 0.51199879]])"
            ]
          },
          "execution_count": 3,
          "metadata": {},
          "output_type": "execute_result"
        }
      ],
      "source": [
        "np1 = np.random.rand(3,4)\n",
        "np1"
      ]
    },
    {
      "cell_type": "code",
      "execution_count": 6,
      "metadata": {},
      "outputs": [
        {
          "data": {
            "text/plain": [
              "array([0.98806544, 0.01561201, 0.0320204 ])"
            ]
          },
          "execution_count": 6,
          "metadata": {},
          "output_type": "execute_result"
        }
      ],
      "source": [
        "np2 = np.random.rand(3)\n",
        "np2"
      ]
    },
    {
      "cell_type": "code",
      "execution_count": 8,
      "metadata": {},
      "outputs": [
        {
          "data": {
            "text/plain": [
              "array([[[0.80256376, 0.63009037],\n",
              "        [0.87226241, 0.29472825],\n",
              "        [0.72697469, 0.99012819],\n",
              "        [0.09468813, 0.78832652]],\n",
              "\n",
              "       [[0.2352575 , 0.96448542],\n",
              "        [0.36868963, 0.54715212],\n",
              "        [0.39080811, 0.57928472],\n",
              "        [0.8124028 , 0.09816183]],\n",
              "\n",
              "       [[0.22257863, 0.79591503],\n",
              "        [0.04001586, 0.4047527 ],\n",
              "        [0.05562948, 0.04692661],\n",
              "        [0.28890704, 0.8622099 ]]])"
            ]
          },
          "execution_count": 8,
          "metadata": {},
          "output_type": "execute_result"
        }
      ],
      "source": [
        "np3 = np.random.rand(3,4,2)\n",
        "np3"
      ]
    },
    {
      "cell_type": "code",
      "execution_count": 5,
      "metadata": {
        "colab": {
          "base_uri": "https://localhost:8080/"
        },
        "id": "53ypJQHuAnmd",
        "outputId": "b4c5cc2c-d6ee-48fa-a6d3-b113cfcec823"
      },
      "outputs": [
        {
          "data": {
            "text/plain": [
              "dtype('float64')"
            ]
          },
          "execution_count": 5,
          "metadata": {},
          "output_type": "execute_result"
        }
      ],
      "source": [
        "np1.dtype\n"
      ]
    },
    {
      "cell_type": "markdown",
      "metadata": {
        "id": "zcdsJIdKAoVP"
      },
      "source": [
        "# **TENSORS**"
      ]
    },
    {
      "cell_type": "code",
      "execution_count": 9,
      "metadata": {
        "colab": {
          "base_uri": "https://localhost:8080/"
        },
        "id": "Nscq13tnAqYU",
        "outputId": "6066dd9a-6a0b-4d7b-d88d-e3c2ad61314e"
      },
      "outputs": [
        {
          "data": {
            "text/plain": [
              "tensor([[ 0.9237,  0.6361,  1.3506, -0.2267],\n",
              "        [-0.3476,  0.6364,  0.1272,  1.2362],\n",
              "        [ 1.5810, -0.7556,  0.1505,  0.7517]])"
            ]
          },
          "execution_count": 9,
          "metadata": {},
          "output_type": "execute_result"
        }
      ],
      "source": [
        "tensor_2d = torch.randn(3,4)\n",
        "tensor_2d\n",
        "#tensor_2d.dtype"
      ]
    },
    {
      "cell_type": "code",
      "execution_count": 14,
      "metadata": {},
      "outputs": [
        {
          "data": {
            "text/plain": [
              "torch.float32"
            ]
          },
          "execution_count": 14,
          "metadata": {},
          "output_type": "execute_result"
        }
      ],
      "source": [
        "tensor_2d.dtype"
      ]
    },
    {
      "cell_type": "code",
      "execution_count": 10,
      "metadata": {
        "colab": {
          "base_uri": "https://localhost:8080/"
        },
        "id": "5JXqtHcqDd-s",
        "outputId": "b4913941-196a-40d3-f13c-2f77d99c5aa1"
      },
      "outputs": [
        {
          "data": {
            "text/plain": [
              "tensor([[[0., 0., 0., 0.],\n",
              "         [0., 0., 0., 0.],\n",
              "         [0., 0., 0., 0.]],\n",
              "\n",
              "        [[0., 0., 0., 0.],\n",
              "         [0., 0., 0., 0.],\n",
              "         [0., 0., 0., 0.]]])"
            ]
          },
          "execution_count": 10,
          "metadata": {},
          "output_type": "execute_result"
        }
      ],
      "source": [
        "tensor_3d = torch.zeros(2,3,4)\n",
        "tensor_3d"
      ]
    },
    {
      "cell_type": "code",
      "execution_count": 11,
      "metadata": {
        "colab": {
          "base_uri": "https://localhost:8080/"
        },
        "id": "WdKNvryyDvmE",
        "outputId": "a49d4f4a-0c80-45ea-aeef-2be2e4e70697"
      },
      "outputs": [
        {
          "data": {
            "text/plain": [
              "tensor([[0.0323, 0.3085, 0.6502, 0.4478],\n",
              "        [0.8017, 0.4675, 0.2261, 0.6873],\n",
              "        [0.9960, 0.9713, 0.4344, 0.5120]], dtype=torch.float64)"
            ]
          },
          "execution_count": 11,
          "metadata": {},
          "output_type": "execute_result"
        }
      ],
      "source": [
        "## Create tensor out of numpy array\n",
        "my_tensor = torch.tensor(np1)\n",
        "my_tensor"
      ]
    },
    {
      "cell_type": "code",
      "execution_count": 13,
      "metadata": {
        "id": "FdBvdjysD8gM"
      },
      "outputs": [
        {
          "data": {
            "text/plain": [
              "torch.float64"
            ]
          },
          "execution_count": 13,
          "metadata": {},
          "output_type": "execute_result"
        }
      ],
      "source": [
        "my_tensor.dtype"
      ]
    }
  ],
  "metadata": {
    "colab": {
      "authorship_tag": "ABX9TyOZBNuZtzdXv2AqM7UHNwBo",
      "include_colab_link": true,
      "provenance": []
    },
    "kernelspec": {
      "display_name": "myenv",
      "language": "python",
      "name": "python3"
    },
    "language_info": {
      "codemirror_mode": {
        "name": "ipython",
        "version": 3
      },
      "file_extension": ".py",
      "mimetype": "text/x-python",
      "name": "python",
      "nbconvert_exporter": "python",
      "pygments_lexer": "ipython3",
      "version": "3.8.18"
    }
  },
  "nbformat": 4,
  "nbformat_minor": 0
}
