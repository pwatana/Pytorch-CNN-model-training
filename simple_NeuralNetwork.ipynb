{
  "cells": [
    {
      "cell_type": "markdown",
      "metadata": {
        "colab_type": "text",
        "id": "view-in-github"
      },
      "source": [
        "<a href=\"https://colab.research.google.com/github/flatplanet/Pytorch-Tutorial-Youtube/blob/main/simple_NeuralNetwork.ipynb\" target=\"_parent\"><img src=\"https://colab.research.google.com/assets/colab-badge.svg\" alt=\"Open In Colab\"/></a>"
      ]
    },
    {
      "cell_type": "code",
      "execution_count": null,
      "metadata": {
        "id": "vGOD8SzOPQAk"
      },
      "outputs": [],
      "source": [
        "import torch\n",
        "import torch.nn as nn\n",
        "import torch.nn.functional as F\n",
        "# if needed (for efficiency purposes), open this file in colab and access the free GPU\n",
        "# otherwsie, the code will run on the CPU\n",
        "# set up local mac GPU offered by pytorch"
      ]
    },
    {
      "cell_type": "code",
      "execution_count": null,
      "metadata": {
        "id": "mnDj8FLiRSxO"
      },
      "outputs": [],
      "source": [
        "# Create a Model Class that inherits nn.Module\n",
        "# nn.Module stands for neural network module\n",
        "# this class will have 3 layers\n",
        "# 1. input layer\n",
        "# 2. hidden layer\n",
        "# 3. output layer\n",
        "# each layer will have a number of neurons\n",
        "# the input layer will have 4 neurons\n",
        "# the hidden layer will have 8 neurons\n",
        "# the output layer will have 3 neurons\n",
        "# the forward method will be used to pass the input data through the model\n",
        "# the forward method will use the ReLU activation function\n",
        "# the forward method will return the output of the model\n",
        "\n",
        "# the model will be used to classify the iris flowers into 3 classes\n",
        "# the model will be trained using the iris dataset\n",
        "# the model will be evaluated using the test dataset\n",
        "# the model will be saved and loaded for future use\n",
        "\n",
        "class Model(nn.Module):\n",
        "  # Input layer (4 features of the flower) --> \n",
        "  # Hidden Layer 1 (number of neurons) --> \n",
        "  # H2 (n) --> \n",
        "  # output (3 classes)\n",
        "  def __inint__(self, in_features=4, h1=8. h2=9, out_features=3):\n",
        "    # the values chosen for hidden layer is kind of arbitrary\n",
        "    # input and output are determined\n",
        "    super().__init__()\n",
        "    # this stands for the parent\n",
        "    # inintialize the layers\n",
        "    self.fc1 = nn.Linear(in_features, h1)\n",
        "    # fc stands for fully connected\n",
        "    # input feature connected to the first hidden layer\n",
        "    self.fc2 = nn.Linear(h1, h2)\n",
        "    # the second hidden layer connected to the first hidden layer\n",
        "    self.out = nn.Linear(h2, out_features)\n",
        "    # lastly, the second hidden layer connected to the output layer\n",
        "\n",
        "# we now need a function that will pass the input data through the model\n",
        "# in other words, just moving things forward through the model\n",
        "# the forward method will use the ReLU activation function\n",
        "  def forward(self, x):\n",
        "    x = F.relu(self.fc1(x)) # push it into first layer\n",
        "    x = F.relu(self.fc2(x)) # into second layer\n",
        "    x = self.out(x) # into output layer\n",
        "    return x # return the output\n",
        "  # you see that x just keeps on moving forward\n"
      ]
    },
    {
      "cell_type": "code",
      "execution_count": 3,
      "metadata": {
        "id": "3O7rymtcT-bD"
      },
      "outputs": [],
      "source": [
        "# Pick a manual seed for randomization\n",
        "torch.manual_seed(41)\n",
        "# Create an instance of model\n",
        "model = Model()"
      ]
    },
    {
      "cell_type": "code",
      "execution_count": 4,
      "metadata": {
        "id": "11Q8PWnaUVYj"
      },
      "outputs": [],
      "source": [
        "import pandas as pd\n",
        "import matplotlib.pyplot as plt\n",
        "%matplotlib inline"
      ]
    },
    {
      "cell_type": "code",
      "execution_count": null,
      "metadata": {
        "id": "3WzV4PfT2xhF"
      },
      "outputs": [],
      "source": [
        "# This is the iris dataset\n",
        "url = 'https://gist.githubusercontent.com/netj/8836201/raw/6f9306ad21398ea43cba4f7d537619d0e07d5ae3/iris.csv'\n",
        "my_df = pd.read_csv(url)\n",
        "# we can directly read the data from the url using pandas"
      ]
    },
    {
      "cell_type": "code",
      "execution_count": null,
      "metadata": {
        "colab": {
          "base_uri": "https://localhost:8080/",
          "height": 206
        },
        "id": "r9iQSTSP3X2F",
        "outputId": "1badc81e-f5d3-4136-f161-53d8ea09a1fa"
      },
      "outputs": [
        {
          "data": {
            "text/html": [
              "<div>\n",
              "<style scoped>\n",
              "    .dataframe tbody tr th:only-of-type {\n",
              "        vertical-align: middle;\n",
              "    }\n",
              "\n",
              "    .dataframe tbody tr th {\n",
              "        vertical-align: top;\n",
              "    }\n",
              "\n",
              "    .dataframe thead th {\n",
              "        text-align: right;\n",
              "    }\n",
              "</style>\n",
              "<table border=\"1\" class=\"dataframe\">\n",
              "  <thead>\n",
              "    <tr style=\"text-align: right;\">\n",
              "      <th></th>\n",
              "      <th>sepal.length</th>\n",
              "      <th>sepal.width</th>\n",
              "      <th>petal.length</th>\n",
              "      <th>petal.width</th>\n",
              "      <th>variety</th>\n",
              "    </tr>\n",
              "  </thead>\n",
              "  <tbody>\n",
              "    <tr>\n",
              "      <th>145</th>\n",
              "      <td>6.7</td>\n",
              "      <td>3.0</td>\n",
              "      <td>5.2</td>\n",
              "      <td>2.3</td>\n",
              "      <td>Virginica</td>\n",
              "    </tr>\n",
              "    <tr>\n",
              "      <th>146</th>\n",
              "      <td>6.3</td>\n",
              "      <td>2.5</td>\n",
              "      <td>5.0</td>\n",
              "      <td>1.9</td>\n",
              "      <td>Virginica</td>\n",
              "    </tr>\n",
              "    <tr>\n",
              "      <th>147</th>\n",
              "      <td>6.5</td>\n",
              "      <td>3.0</td>\n",
              "      <td>5.2</td>\n",
              "      <td>2.0</td>\n",
              "      <td>Virginica</td>\n",
              "    </tr>\n",
              "    <tr>\n",
              "      <th>148</th>\n",
              "      <td>6.2</td>\n",
              "      <td>3.4</td>\n",
              "      <td>5.4</td>\n",
              "      <td>2.3</td>\n",
              "      <td>Virginica</td>\n",
              "    </tr>\n",
              "    <tr>\n",
              "      <th>149</th>\n",
              "      <td>5.9</td>\n",
              "      <td>3.0</td>\n",
              "      <td>5.1</td>\n",
              "      <td>1.8</td>\n",
              "      <td>Virginica</td>\n",
              "    </tr>\n",
              "  </tbody>\n",
              "</table>\n",
              "</div>"
            ],
            "text/plain": [
              "     sepal.length  sepal.width  petal.length  petal.width    variety\n",
              "145           6.7          3.0           5.2          2.3  Virginica\n",
              "146           6.3          2.5           5.0          1.9  Virginica\n",
              "147           6.5          3.0           5.2          2.0  Virginica\n",
              "148           6.2          3.4           5.4          2.3  Virginica\n",
              "149           5.9          3.0           5.1          1.8  Virginica"
            ]
          },
          "execution_count": 7,
          "metadata": {},
          "output_type": "execute_result"
        }
      ],
      "source": [
        "my_df.tail()\n",
        "# see that we have four features "
      ]
    },
    {
      "cell_type": "code",
      "execution_count": null,
      "metadata": {
        "colab": {
          "base_uri": "https://localhost:8080/",
          "height": 423
        },
        "id": "qTcYyxFe3ZHU",
        "outputId": "f43bf80f-638a-4b7f-d87c-da58d75f4c8d"
      },
      "outputs": [
        {
          "data": {
            "text/html": [
              "<div>\n",
              "<style scoped>\n",
              "    .dataframe tbody tr th:only-of-type {\n",
              "        vertical-align: middle;\n",
              "    }\n",
              "\n",
              "    .dataframe tbody tr th {\n",
              "        vertical-align: top;\n",
              "    }\n",
              "\n",
              "    .dataframe thead th {\n",
              "        text-align: right;\n",
              "    }\n",
              "</style>\n",
              "<table border=\"1\" class=\"dataframe\">\n",
              "  <thead>\n",
              "    <tr style=\"text-align: right;\">\n",
              "      <th></th>\n",
              "      <th>sepal.length</th>\n",
              "      <th>sepal.width</th>\n",
              "      <th>petal.length</th>\n",
              "      <th>petal.width</th>\n",
              "      <th>variety</th>\n",
              "    </tr>\n",
              "  </thead>\n",
              "  <tbody>\n",
              "    <tr>\n",
              "      <th>0</th>\n",
              "      <td>5.1</td>\n",
              "      <td>3.5</td>\n",
              "      <td>1.4</td>\n",
              "      <td>0.2</td>\n",
              "      <td>0.0</td>\n",
              "    </tr>\n",
              "    <tr>\n",
              "      <th>1</th>\n",
              "      <td>4.9</td>\n",
              "      <td>3.0</td>\n",
              "      <td>1.4</td>\n",
              "      <td>0.2</td>\n",
              "      <td>0.0</td>\n",
              "    </tr>\n",
              "    <tr>\n",
              "      <th>2</th>\n",
              "      <td>4.7</td>\n",
              "      <td>3.2</td>\n",
              "      <td>1.3</td>\n",
              "      <td>0.2</td>\n",
              "      <td>0.0</td>\n",
              "    </tr>\n",
              "    <tr>\n",
              "      <th>3</th>\n",
              "      <td>4.6</td>\n",
              "      <td>3.1</td>\n",
              "      <td>1.5</td>\n",
              "      <td>0.2</td>\n",
              "      <td>0.0</td>\n",
              "    </tr>\n",
              "    <tr>\n",
              "      <th>4</th>\n",
              "      <td>5.0</td>\n",
              "      <td>3.6</td>\n",
              "      <td>1.4</td>\n",
              "      <td>0.2</td>\n",
              "      <td>0.0</td>\n",
              "    </tr>\n",
              "    <tr>\n",
              "      <th>...</th>\n",
              "      <td>...</td>\n",
              "      <td>...</td>\n",
              "      <td>...</td>\n",
              "      <td>...</td>\n",
              "      <td>...</td>\n",
              "    </tr>\n",
              "    <tr>\n",
              "      <th>145</th>\n",
              "      <td>6.7</td>\n",
              "      <td>3.0</td>\n",
              "      <td>5.2</td>\n",
              "      <td>2.3</td>\n",
              "      <td>2.0</td>\n",
              "    </tr>\n",
              "    <tr>\n",
              "      <th>146</th>\n",
              "      <td>6.3</td>\n",
              "      <td>2.5</td>\n",
              "      <td>5.0</td>\n",
              "      <td>1.9</td>\n",
              "      <td>2.0</td>\n",
              "    </tr>\n",
              "    <tr>\n",
              "      <th>147</th>\n",
              "      <td>6.5</td>\n",
              "      <td>3.0</td>\n",
              "      <td>5.2</td>\n",
              "      <td>2.0</td>\n",
              "      <td>2.0</td>\n",
              "    </tr>\n",
              "    <tr>\n",
              "      <th>148</th>\n",
              "      <td>6.2</td>\n",
              "      <td>3.4</td>\n",
              "      <td>5.4</td>\n",
              "      <td>2.3</td>\n",
              "      <td>2.0</td>\n",
              "    </tr>\n",
              "    <tr>\n",
              "      <th>149</th>\n",
              "      <td>5.9</td>\n",
              "      <td>3.0</td>\n",
              "      <td>5.1</td>\n",
              "      <td>1.8</td>\n",
              "      <td>2.0</td>\n",
              "    </tr>\n",
              "  </tbody>\n",
              "</table>\n",
              "<p>150 rows × 5 columns</p>\n",
              "</div>"
            ],
            "text/plain": [
              "     sepal.length  sepal.width  petal.length  petal.width  variety\n",
              "0             5.1          3.5           1.4          0.2      0.0\n",
              "1             4.9          3.0           1.4          0.2      0.0\n",
              "2             4.7          3.2           1.3          0.2      0.0\n",
              "3             4.6          3.1           1.5          0.2      0.0\n",
              "4             5.0          3.6           1.4          0.2      0.0\n",
              "..            ...          ...           ...          ...      ...\n",
              "145           6.7          3.0           5.2          2.3      2.0\n",
              "146           6.3          2.5           5.0          1.9      2.0\n",
              "147           6.5          3.0           5.2          2.0      2.0\n",
              "148           6.2          3.4           5.4          2.3      2.0\n",
              "149           5.9          3.0           5.1          1.8      2.0\n",
              "\n",
              "[150 rows x 5 columns]"
            ]
          },
          "execution_count": 8,
          "metadata": {},
          "output_type": "execute_result"
        }
      ],
      "source": [
        "# Change last column from strings to integers\n",
        "# use replace function from pandas\n",
        "# CNN, ML in general works better with numbers right?\n",
        "# Setosa --> 0.0\n",
        "# Versicolor --> 1.0    \n",
        "# Virginica --> 2.0\n",
        "my_df['variety'] = my_df['variety'].replace('Setosa', 0.0)\n",
        "my_df['variety'] = my_df['variety'].replace('Versicolor', 1.0)\n",
        "my_df['variety'] = my_df['variety'].replace('Virginica', 2.0)\n",
        "my_df"
      ]
    },
    {
      "cell_type": "code",
      "execution_count": null,
      "metadata": {
        "id": "1ZCKBrRz3xRE"
      },
      "outputs": [],
      "source": [
        "# Train Test Split!  Set X, y\n",
        "X = my_df.drop('variety', axis=1)\n",
        "y = my_df['variety']\n",
        "# X is the input data/the features (4 features, sepa length/width, petal length/width)\n",
        "# y is the target data\n",
        "# we are dropping the variety column from X, because that is basically the outcome that we are predicting"
      ]
    },
    {
      "cell_type": "code",
      "execution_count": null,
      "metadata": {
        "id": "AvjES9MX4MF1"
      },
      "outputs": [],
      "source": [
        "# Convert these to numpy arrays\n",
        "X = X.values\n",
        "y = y.values"
      ]
    },
    {
      "cell_type": "code",
      "execution_count": 11,
      "metadata": {
        "id": "AkNGTq2e4M40"
      },
      "outputs": [],
      "source": [
        "from sklearn.model_selection import train_test_split"
      ]
    },
    {
      "cell_type": "code",
      "execution_count": null,
      "metadata": {
        "id": "dRv8t5BV4YQs"
      },
      "outputs": [],
      "source": [
        "# Train Test Split\n",
        "X_train, X_test, y_train, y_test = train_test_split(X, y, test_size=0.2, random_state=41)\n",
        "# we split both the input and target data into training and testing data\n",
        "# the test size is 20% of the data, this is usually the standard\n",
        "# we set a random seed for reproduc"
      ]
    },
    {
      "cell_type": "code",
      "execution_count": 14,
      "metadata": {
        "id": "eD_LwH6Q46-t"
      },
      "outputs": [],
      "source": [
        "# Convert X features to float tensors\n",
        "X_train = torch.FloatTensor(X_train)\n",
        "X_test = torch.FloatTensor(X_test)\n",
        "# make sure we are always feeding the model with tensors\n",
        "# we are converting the data to tensors, because pytorch works with tensors"
      ]
    },
    {
      "cell_type": "code",
      "execution_count": null,
      "metadata": {
        "id": "Eo-sZan65Qgj"
      },
      "outputs": [],
      "source": [
        "# Convert y labels to tensors long\n",
        "# do the same thing, both input and output train and test must be tensors\n",
        "y_train = torch.LongTensor(y_train)\n",
        "y_test = torch.LongTensor(y_test)"
      ]
    },
    {
      "cell_type": "code",
      "execution_count": 18,
      "metadata": {
        "id": "DoEoy3SA5mAz"
      },
      "outputs": [],
      "source": [
        "# Set the criterion of model to measure the error, how far off the predictions are from the data\n",
        "criterion = nn.CrossEntropyLoss()\n",
        "# this is the loss function, the error function\n",
        "# we want to make sure we visualize the error, so we can see how well the model is doing\n",
        "# we want to minimize the error\n",
        "# Choose Adam Optimizer, lr = learning rate (if error doesn't go down after a bunch of iterations (epochs), lower our learning rate)\n",
        "optimizer = torch.optim.Adam(model.parameters(), lr=0.01)\n",
        "# so the lower the learning rate, the more accurate the model will be, but the slower it will be\n",
        "# the higher the learning rate, the faster the model will be, but the less accurate\n",
        "# so remember to find the sweet spot"
      ]
    },
    {
      "cell_type": "markdown",
      "metadata": {},
      "source": [
        "### Training the model!"
      ]
    },
    {
      "cell_type": "code",
      "execution_count": 19,
      "metadata": {
        "colab": {
          "base_uri": "https://localhost:8080/"
        },
        "id": "i0EJKYEJ6eKz",
        "outputId": "0f714daf-0493-43e9-f058-e7b33fe5e099"
      },
      "outputs": [
        {
          "name": "stdout",
          "output_type": "stream",
          "text": [
            "Epoch 0 and loss is: 1.125203251838684\n",
            "Epoch 10 and loss is: 1.0097211599349976\n",
            "Epoch 20 and loss is: 0.8162347674369812\n",
            "Epoch 30 and loss is: 0.5859931111335754\n",
            "Epoch 40 and loss is: 0.4003389775753021\n",
            "Epoch 50 and loss is: 0.26794713735580444\n",
            "Epoch 60 and loss is: 0.1796349436044693\n",
            "Epoch 70 and loss is: 0.12165623158216476\n",
            "Epoch 80 and loss is: 0.08606517314910889\n",
            "Epoch 90 and loss is: 0.06522618234157562\n"
          ]
        }
      ],
      "source": [
        "# Train our model!\n",
        "# Epochs? (one run thru all the training data in our network)\n",
        "epochs = 100 # what is the best number of epochs?\n",
        "losses = [] # keep track of the loss\n",
        "# we want to see how the loss changes over time\n",
        "# Looking at the plateau\n",
        "for i in range(epochs):\n",
        "    # Go forward and get a prediction\n",
        "    y_pred = model.forward(X_train) # Get predicted results\n",
        "\n",
        "    # Measure the loss/error, gonna be high at first \n",
        "    loss = criterion(y_pred, y_train) # Predicted values vs the y_train\n",
        "\n",
        "    # Keep track of the loss\n",
        "    losses.append(loss.detach().numpy())\n",
        "\n",
        "    # print every 10 epoch\n",
        "    if i%10 == 0:\n",
        "        print(f'Epoch {i} and loss is: {loss}')\n",
        "\n",
        "    # Do the backpropagation: take the error rate of forward propagration and feed it back \n",
        "    # thru the network to adjust the weights\n",
        "    optimizer.zero_grad() # zero the gradient\n",
        "    loss.backward() # backpropagation\n",
        "    optimizer.step() # update the weights"
      ]
    },
    {
      "cell_type": "code",
      "execution_count": 20,
      "metadata": {
        "colab": {
          "base_uri": "https://localhost:8080/",
          "height": 467
        },
        "id": "EErRwcHZ6gD6",
        "outputId": "a2ba8134-399d-4a13-e252-29f4b45dd6b6"
      },
      "outputs": [
        {
          "data": {
            "text/plain": [
              "Text(0.5, 0, 'Epoch')"
            ]
          },
          "execution_count": 20,
          "metadata": {},
          "output_type": "execute_result"
        },
        {
          "data": {
            "image/png": "[encoded data removed]",
            "text/plain": [
              "<Figure size 640x480 with 1 Axes>"
            ]
          },
          "metadata": {},
          "output_type": "display_data"
        }
      ],
      "source": [
        "# Graph it out!\n",
        "plt.plot(range(epochs), losses)\n",
        "plt.ylabel(\"loss/error\")\n",
        "plt.xlabel('Epoch')"
      ]
    },
    {
      "cell_type": "code",
      "execution_count": 21,
      "metadata": {
        "id": "Dip1EQKV8e8C"
      },
      "outputs": [],
      "source": [
        "# Evaluate Model on Test Data Set (validate model on test set)\n",
        "with torch.no_grad():  # Basically turn off back propogation\n",
        "  y_eval = model.forward(X_test) # X_test are features from our test set, y_eval will be predictions\n",
        "  loss = criterion(y_eval, y_test) # Find the loss or error\n"
      ]
    },
    {
      "cell_type": "code",
      "execution_count": null,
      "metadata": {
        "colab": {
          "base_uri": "https://localhost:8080/"
        },
        "id": "WKGJ7x_NZN5e",
        "outputId": "59c49944-1a98-44cf-d0e4-8f06a80c0b0a"
      },
      "outputs": [
        {
          "data": {
            "text/plain": [
              "tensor(0.1315)"
            ]
          },
          "execution_count": 22,
          "metadata": {},
          "output_type": "execute_result"
        }
      ],
      "source": [
        "# This is the final loss for the test data set, which shows how good our model is\n",
        "# it represent the model's fit on the test data, lower the loss the better it is\n",
        "loss\n",
        "# notice that this value is quite far from the loss we got from the training data\n",
        "# it's way higher than the training loss, but that's okay\n",
        "# because this is the first time the model is seeing this data\n",
        "# as long as the accuracy expected is reached, for example, in this case it has predicted 28 our 30 correctly\n",
        "# let's dive deeper to see how our model did on this data"
      ]
    },
    {
      "cell_type": "code",
      "execution_count": 23,
      "metadata": {
        "colab": {
          "base_uri": "https://localhost:8080/"
        },
        "id": "lyntMH5tZOtW",
        "outputId": "889fe499-9325-4879-e031-ff69b065b9de"
      },
      "outputs": [
        {
          "name": "stdout",
          "output_type": "stream",
          "text": [
            "1.)  tensor([-5.8771,  4.4629,  6.5155]) \t 2 \t 2\n",
            "2.)  tensor([-7.5451,  4.1668,  9.7293]) \t 2 \t 2\n",
            "3.)  tensor([-8.4517,  5.1275, 10.2015]) \t 2 \t 2\n",
            "4.)  tensor([-4.3411,  5.6280,  2.5636]) \t 1 \t 1\n",
            "5.)  tensor([-7.1838,  4.8757,  8.3023]) \t 2 \t 2\n",
            "6.)  tensor([-3.3940,  5.3421,  1.2802]) \t 1 \t 1\n",
            "7.)  tensor([-5.9240,  4.9826,  6.0025]) \t 2 \t 2\n",
            "8.)  tensor([-4.2895,  5.7016,  2.3920]) \t 1 \t 1\n",
            "9.)  tensor([-6.5369,  4.9261,  7.1291]) \t 2 \t 2\n",
            "10.)  tensor([-8.0526,  4.4129, 10.3325]) \t 2 \t 2\n",
            "11.)  tensor([-5.6775,  4.9505,  5.6248]) \t 2 \t 2\n",
            "12.)  tensor([ 4.5748, -2.2579, -2.8925]) \t 0 \t 0\n",
            "13.)  tensor([ 4.2646, -2.0055, -2.7342]) \t 0 \t 0\n",
            "14.)  tensor([-2.1081,  4.0482,  0.5803]) \t 1 \t 1\n",
            "15.)  tensor([ 3.4608, -1.2147, -2.3488]) \t 0 \t 0\n",
            "16.)  tensor([-5.4739,  5.1174,  5.0966]) \t 2 \t 1\n",
            "17.)  tensor([ 4.0637, -1.8045, -2.6504]) \t 0 \t 0\n",
            "18.)  tensor([-5.8090,  4.6057,  6.2494]) \t 1 \t 2\n",
            "19.)  tensor([ 4.9250, -2.5763, -3.0545]) \t 0 \t 0\n",
            "20.)  tensor([ 3.4559, -1.2559, -2.3637]) \t 0 \t 0\n",
            "21.)  tensor([-2.6161,  4.5584,  0.8575]) \t 1 \t 1\n",
            "22.)  tensor([-7.7427,  4.7379,  9.4233]) \t 2 \t 2\n",
            "23.)  tensor([ 3.5777, -1.3269, -2.4109]) \t 0 \t 0\n",
            "24.)  tensor([ 4.5445, -2.2478, -2.8698]) \t 0 \t 0\n",
            "25.)  tensor([-2.6548,  4.6138,  0.8825]) \t 1 \t 1\n",
            "26.)  tensor([-3.2832,  5.2189,  1.2163]) \t 1 \t 1\n",
            "27.)  tensor([-4.6527,  5.7790,  2.9302]) \t 1 \t 1\n",
            "28.)  tensor([-2.9436,  4.8858,  1.0381]) \t 1 \t 1\n",
            "29.)  tensor([ 4.5932, -2.2788, -2.8989]) \t 0 \t 0\n",
            "30.)  tensor([-4.5797,  5.4566,  3.1690]) \t 1 \t 1\n",
            "We got 28 correct!\n"
          ]
        }
      ],
      "source": [
        "correct = 0\n",
        "with torch.no_grad():\n",
        "  for i, data in enumerate(X_test):\n",
        "    y_val = model.forward(data)\n",
        "\n",
        "    if y_test[i] == 0:\n",
        "      x = \"Setosa\"\n",
        "    elif y_test[i] == 1:\n",
        "      x = 'Versicolor'\n",
        "    else:\n",
        "      x = 'Virginica'\n",
        "\n",
        "\n",
        "    # Will tell us what type of flower class our network thinks it is\n",
        "    print(f'{i+1}.)  {str(y_val)} \\t {y_test[i]} \\t {y_val.argmax().item()}')\n",
        "\n",
        "    # Correct or not\n",
        "    if y_val.argmax().item() == y_test[i]:\n",
        "      correct +=1\n",
        "\n",
        "print(f'We got {correct} correct!')"
      ]
    },
    {
      "cell_type": "code",
      "execution_count": 29,
      "metadata": {
        "id": "DJPl2eAmbJiM"
      },
      "outputs": [],
      "source": [
        "new_iris = torch.tensor([4.7, 3.2, 1.3, 0.2])\n",
        "# new flower data"
      ]
    },
    {
      "cell_type": "code",
      "execution_count": 30,
      "metadata": {
        "colab": {
          "base_uri": "https://localhost:8080/"
        },
        "id": "WrDdPpEsmPOd",
        "outputId": "28800bc0-b5c0-4a65-ef4f-d850a0f1fc51"
      },
      "outputs": [
        {
          "name": "stdout",
          "output_type": "stream",
          "text": [
            "tensor([ 4.5445, -2.2478, -2.8698])\n"
          ]
        }
      ],
      "source": [
        "with torch.no_grad():\n",
        "  print(model(new_iris))"
      ]
    },
    {
      "cell_type": "code",
      "execution_count": 32,
      "metadata": {
        "id": "EcdmzRL7mZ_M"
      },
      "outputs": [],
      "source": [
        "newer_iris = torch.tensor([5.9, 3.0, 5.1, 1.8])\n",
        "# more new flower"
      ]
    },
    {
      "cell_type": "code",
      "execution_count": 34,
      "metadata": {
        "colab": {
          "base_uri": "https://localhost:8080/"
        },
        "id": "hPnukBTCmrLs",
        "outputId": "bb09b40e-fc73-410e-8a36-aaa38578e59e"
      },
      "outputs": [
        {
          "name": "stdout",
          "output_type": "stream",
          "text": [
            "tensor([-5.9960,  4.5080,  6.6831])\n"
          ]
        }
      ],
      "source": [
        "with torch.no_grad():\n",
        "  print(model(newer_iris))\n",
        "# the model is predicting the new flowers correctly"
      ]
    },
    {
      "cell_type": "code",
      "execution_count": null,
      "metadata": {
        "id": "cc42k-Crmvck"
      },
      "outputs": [],
      "source": [
        "# Save our NN Model\n",
        "torch.save(model.state_dict(), 'my_really_awesome_iris_model.pt')\n"
      ]
    },
    {
      "cell_type": "code",
      "execution_count": 35,
      "metadata": {
        "colab": {
          "base_uri": "https://localhost:8080/"
        },
        "id": "3RKnF7RXnhYz",
        "outputId": "c0d210a5-7b39-46d7-bfdd-91aa678f2cbd"
      },
      "outputs": [
        {
          "data": {
            "text/plain": [
              "<All keys matched successfully>"
            ]
          },
          "execution_count": 35,
          "metadata": {},
          "output_type": "execute_result"
        }
      ],
      "source": [
        "# Load the Saved Model\n",
        "new_model = Model()\n",
        "new_model.load_state_dict(torch.load('my_really_awesome_iris_model.pt'))"
      ]
    },
    {
      "cell_type": "code",
      "execution_count": 36,
      "metadata": {
        "colab": {
          "base_uri": "https://localhost:8080/"
        },
        "id": "rV_GTla9nyAa",
        "outputId": "8784f762-4c12-4cf5-c9dc-dfa3fbf3dbe0"
      },
      "outputs": [
        {
          "data": {
            "text/plain": [
              "Model(\n",
              "  (fc1): Linear(in_features=4, out_features=8, bias=True)\n",
              "  (fc2): Linear(in_features=8, out_features=9, bias=True)\n",
              "  (out): Linear(in_features=9, out_features=3, bias=True)\n",
              ")"
            ]
          },
          "execution_count": 36,
          "metadata": {},
          "output_type": "execute_result"
        }
      ],
      "source": [
        "# Make sure it loaded correctly\n",
        "new_model.eval()"
      ]
    },
    {
      "cell_type": "markdown",
      "metadata": {},
      "source": [
        "### My summar of creating a simple neural network\n",
        "\n",
        "1. Define model where there is: input, hidden layers (fully connected), and output layer with a forward method that pushes the input through the layers.\n",
        "2. Load and format data into appropriate form so mostly using pandas. \n",
        "3. Define the input and output\n",
        "4. Define input traning and test, output training and test\n",
        "5. Set the loss function criterion and the learning rate\n",
        "6. Train the model, for the number of epochs, while tracking the loss.\n",
        "7. Adjust epochs and learning rate accordingly and apply to test data and see the loss result.\n",
        "8. Trouble shoot/ further dive in by looking at the correctness of the prediction on the test data if necessary (for example, if the loss value is far higher compared to the training).\n",
        "9. Try testing on some new data.\n",
        "10. Save the model.\n",
        "11. Load the model. "
      ]
    }
  ],
  "metadata": {
    "colab": {
      "authorship_tag": "ABX9TyMUpEgHNEUhEvvktBMAIcXc",
      "include_colab_link": true,
      "provenance": []
    },
    "kernelspec": {
      "display_name": "myenv",
      "language": "python",
      "name": "python3"
    },
    "language_info": {
      "codemirror_mode": {
        "name": "ipython",
        "version": 3
      },
      "file_extension": ".py",
      "mimetype": "text/x-python",
      "name": "python",
      "nbconvert_exporter": "python",
      "pygments_lexer": "ipython3",
      "version": "3.8.18"
    }
  },
  "nbformat": 4,
  "nbformat_minor": 0
}
